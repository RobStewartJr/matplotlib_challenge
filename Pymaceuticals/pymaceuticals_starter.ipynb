{
 "cells": [
  {
   "cell_type": "code",
   "execution_count": null,
   "metadata": {},
   "outputs": [],
   "source": [
    "# Dependencies and Setup\n",
    "%matplotlib inline\n",
    "import matplotlib.pyplot as plt\n",
    "import pandas as pd\n",
    "import numpy as np\n",
    "import statistics\n",
    "\n",
    "# Hide warning messages in notebook\n",
    "import warnings\n",
    "warnings.filterwarnings('ignore')\n",
    "\n",
    "# File to Load (Remember to Change These)\n",
    "mouse_drug_data_to_load = \"data/mouse_drug_data.csv\"\n",
    "clinical_trial_data_to_load = \"data/clinicaltrial_data.csv\"\n",
    "\n",
    "# Read the Mouse and Drug Data and the Clinical Trial Data\n",
    "clinical_trial_df = pd.read_csv(clinical_trial_data_to_load, low_memory=False)\n",
    "mouse_drug_df = pd.read_csv(mouse_drug_data_to_load, low_memory=False)\n",
    "\n",
    "# Combine the data into a single dataset\n",
    "combined_drug_df = pd.merge(clinical_trial_df, mouse_drug_df, how='left', on=\"Mouse ID\")\n",
    "\n",
    "\n",
    "# Display the data table for preview\n",
    "combined_drug_df.head()\n"
   ]
  },
  {
   "cell_type": "markdown",
   "metadata": {},
   "source": [
    "## Tumor Response to Treatment"
   ]
  },
  {
   "cell_type": "code",
   "execution_count": null,
   "metadata": {},
   "outputs": [],
   "source": [
    "# Store the Mean Tumor Volume Data Grouped by Drug and Timepoint \n",
    "grouped_drug_df = combined_drug_df.groupby([\"Drug\",\"Timepoint\"])\n",
    "\n",
    "# Convert to DataFrame\n",
    "mean_tumor_vol_df = grouped_drug_df[\"Tumor Volume (mm3)\"].mean()\n",
    "tumor_scatter_df = pd.DataFrame(mean_tumor_vol_df).reset_index()\n",
    "\n",
    "# Preview DataFrame\n",
    "tumor_scatter_df.head()                                                      "
   ]
  },
  {
   "cell_type": "code",
   "execution_count": null,
   "metadata": {},
   "outputs": [],
   "source": [
    "# Store the Standard Error of Tumor Volumes Grouped by Drug and Timepoint\n",
    "tumor_scatter_error_df = grouped_drug_df[\"Tumor Volume (mm3)\"].sem()\n",
    "\n",
    "# Convert to DataFrame\n",
    "tumor_scatter_error_reset_df = pd.DataFrame(tumor_scatter_error_df).reset_index()\n",
    "\n",
    "# Preview DataFrame\n",
    "tumor_scatter_error_reset_df.head()\n"
   ]
  },
  {
   "cell_type": "code",
   "execution_count": null,
   "metadata": {},
   "outputs": [],
   "source": [
    "# Minor Data Munging to Re-Format the Data Frames\n",
    "reformatted_tumor_scatter_df = tumor_scatter_df.pivot(index = \"Timepoint\", columns =\"Drug\", values = \"Tumor Volume (mm3)\")\n",
    "\n",
    "# Preview that Reformatting worked\n",
    "reformatted_tumor_scatter_df"
   ]
  },
  {
   "cell_type": "code",
   "execution_count": null,
   "metadata": {},
   "outputs": [],
   "source": [
    "# Generate the Plot (with Error Bars)\n",
    "\n",
    "time = [0, 5, 10, 15, 20, 25, 30, 35, 40, 45]\n",
    "\n",
    "cap_tumor_data = tumor_scatter_error_reset_df.loc[tumor_scatter_error_reset_df[\"Drug\"] == \"Capomulin\", \"Tumor Volume (mm3)\"]\n",
    "plt.errorbar(time, reformatted_tumor_scatter_df[\"Capomulin\"], yerr= cap_tumor_data, label= \"Capomulin\", marker= \"o\", color=\"r\", linestyle=\"dashed\")\n",
    "\n",
    "inf_tumor_data = tumor_scatter_error_reset_df.loc[tumor_scatter_error_reset_df[\"Drug\"] == \"Infubinol\", \"Tumor Volume (mm3)\"]\n",
    "plt.errorbar(time, reformatted_tumor_scatter_df[\"Infubinol\"], yerr= inf_tumor_data, label= \"Infubinol\", marker= \"^\", color=\"b\", linestyle=\"dashed\")\n",
    "\n",
    "ket_tumor_data = tumor_scatter_error_reset_df.loc[tumor_scatter_error_reset_df[\"Drug\"] == \"Ketapril\", \"Tumor Volume (mm3)\"]\n",
    "plt.errorbar(time, reformatted_tumor_scatter_df[\"Ketapril\"], yerr= ket_tumor_data, label= \"Ketapril\", marker= \"s\", color=\"g\", linestyle=\"dashed\")\n",
    "\n",
    "placebo_tumor_data = tumor_scatter_error_reset_df.loc[tumor_scatter_error_reset_df[\"Drug\"] == \"Placebo\", \"Tumor Volume (mm3)\"]\n",
    "plt.errorbar(time, reformatted_tumor_scatter_df[\"Placebo\"], yerr= placebo_tumor_data , label= \"Placebo\", marker= \"d\", color=\"k\", linestyle=\"dashed\")\n",
    "\n",
    "plt.legend()\n",
    "plt.title(\"Tumor Response to Treatment \")\n",
    "plt.xlabel(\"Time (Days)\")\n",
    "plt.ylabel(\"Tumor Volume (mm3)\")\n",
    "plt.grid()\n",
    "\n",
    "# Save the Figure\n",
    "plt.savefig(\"Images/tumor_response_to_treatment.png\")\n",
    "\n",
    "# Show the Figure\n",
    "plt.show()"
   ]
  },
  {
   "cell_type": "markdown",
   "metadata": {},
   "source": [
    "## Metastatic Response to Treatment"
   ]
  },
  {
   "cell_type": "code",
   "execution_count": null,
   "metadata": {},
   "outputs": [],
   "source": [
    "# Store the Mean Met. Site Data Grouped by Drug and Timepoint \n",
    "grouped_metastatic_df = combined_drug_df.groupby([\"Drug\",\"Timepoint\"])\n",
    "\n",
    "# Convert to DataFrame\n",
    "mean_metastatic_df = grouped_metastatic_df[\"Metastatic Sites\"].mean()\n",
    "metastatic_scatter_df = pd.DataFrame(mean_metastatic_df).reset_index()\n",
    "\n",
    "# Preview DataFrame\n",
    "metastatic_scatter_df.head()"
   ]
  },
  {
   "cell_type": "code",
   "execution_count": null,
   "metadata": {},
   "outputs": [],
   "source": [
    "# Store the Standard Error of Tumor Volumes Grouped by Drug and Timepoint\n",
    "metastatic_scatter_error_df = grouped_drug_df[\"Metastatic Sites\"].sem()\n",
    "\n",
    "# Convert to DataFrame\n",
    "metastatic_scatter_error_reset_df = pd.DataFrame(metastatic_scatter_error_df).reset_index()\n",
    "\n",
    "# Preview DataFrame\n",
    "metastatic_scatter_error_reset_df.head()"
   ]
  },
  {
   "cell_type": "code",
   "execution_count": null,
   "metadata": {},
   "outputs": [],
   "source": [
    "# Minor Data Munging to Re-Format the Data Frames\n",
    "reformatted_metastatic_scatter_df = metastatic_scatter_df.pivot(index = \"Timepoint\", columns =\"Drug\", values = \"Metastatic Sites\")\n",
    "\n",
    "# Preview that Reformatting worked\n",
    "reformatted_metastatic_scatter_df"
   ]
  },
  {
   "cell_type": "code",
   "execution_count": null,
   "metadata": {},
   "outputs": [],
   "source": [
    "# Generate the Plot (with Error Bars)\n",
    "\n",
    "time = [0, 5, 10, 15, 20, 25, 30, 35, 40, 45]\n",
    "\n",
    "cap_tumor_data_two = metastatic_scatter_error_reset_df.loc[metastatic_scatter_error_reset_df[\"Drug\"] == \"Capomulin\", \"Metastatic Sites\"]\n",
    "plt.errorbar(time, reformatted_metastatic_scatter_df[\"Capomulin\"], yerr= cap_tumor_data_two, label= \"Capomulin\", marker= \"o\", color=\"r\", linestyle=\"dashed\")\n",
    "\n",
    "inf_tumor_data_two = metastatic_scatter_error_reset_df.loc[metastatic_scatter_error_reset_df[\"Drug\"] == \"Infubinol\", \"Metastatic Sites\"]\n",
    "plt.errorbar(time, reformatted_metastatic_scatter_df[\"Infubinol\"], yerr= inf_tumor_data_two, label= \"Infubinol\", marker= \"^\", color=\"b\", linestyle=\"dashed\")\n",
    "\n",
    "ket_tumor_data_two = metastatic_scatter_error_reset_df.loc[metastatic_scatter_error_reset_df[\"Drug\"] == \"Ketapril\", \"Metastatic Sites\"]\n",
    "plt.errorbar(time, reformatted_metastatic_scatter_df[\"Ketapril\"], yerr= ket_tumor_data_two, label= \"Ketapril\", marker= \"s\", color=\"g\", linestyle=\"dashed\")\n",
    "\n",
    "placebo_tumor_data_two = metastatic_scatter_error_reset_df.loc[metastatic_scatter_error_reset_df[\"Drug\"] == \"Placebo\", \"Metastatic Sites\"]\n",
    "plt.errorbar(time, reformatted_metastatic_scatter_df[\"Placebo\"], yerr= placebo_tumor_data_two , label= \"Placebo\", marker= \"d\", color=\"k\", linestyle=\"dashed\")\n",
    "\n",
    "plt.legend()\n",
    "plt.title(\"Metastatic Response To Treatment\")\n",
    "plt.xlabel(\"Time (Days)\")\n",
    "plt.ylabel(\"Metastatic Sites\")\n",
    "plt.grid()\n",
    "\n",
    "# Save the Figure\n",
    "plt.savefig(\"Images/metastatic_response_to_treatment.png\")\n",
    "\n",
    "# Show the Figure\n",
    "plt.show()"
   ]
  },
  {
   "cell_type": "markdown",
   "metadata": {},
   "source": [
    "## Survival Rates"
   ]
  },
  {
   "cell_type": "code",
   "execution_count": null,
   "metadata": {},
   "outputs": [],
   "source": [
    "# Store the Count of Mice Grouped by Drug and Timepoint (W can pass any metric)\n",
    "\n",
    "# Store the Mean Met. Site Data Grouped by Drug and Timepoint \n",
    "grouped_mouse_df = combined_drug_df.groupby([\"Drug\",\"Timepoint\"])\n",
    "\n",
    "# Convert to DataFrame\n",
    "count_mouse_df = grouped_mouse_df[\"Mouse ID\"].count()\n",
    "mouse_scatter_df = pd.DataFrame(count_mouse_df).reset_index()\n",
    "\n",
    "# Preview DataFrame\n",
    "mouse_scatter_df.head()"
   ]
  },
  {
   "cell_type": "code",
   "execution_count": null,
   "metadata": {},
   "outputs": [],
   "source": [
    "# Minor Data Munging to Re-Format the Data Frames\n",
    "reformatted_mouse_scatter_df = mouse_scatter_df.pivot(index = \"Timepoint\", columns =\"Drug\", values = \"Mouse ID\")\n",
    "\n",
    "# Preview that Reformatting worked\n",
    "reformatted_mouse_scatter_df\n"
   ]
  },
  {
   "cell_type": "code",
   "execution_count": null,
   "metadata": {},
   "outputs": [],
   "source": [
    "# Generate the Plot (Accounting for percentages)\n",
    "\n",
    "Time = [0, 5, 10, 15, 20, 25, 30, 35, 40, 45]\n",
    "\n",
    "plt.plot(Time, (reformatted_mouse_scatter_df[\"Capomulin\"]/25)*100 , label= \"Capomulin\", marker= \"o\", color=\"r\", linestyle=\"dashed\")\n",
    "plt.plot(Time, (reformatted_mouse_scatter_df[\"Infubinol\"]/25)*100 , label= \"Infubinol\", marker= \"^\", color=\"b\", linestyle=\"dashed\")\n",
    "plt.plot(Time, (reformatted_mouse_scatter_df[\"Ketapril\"]/25)*100 , label= \"Ketapril\", marker= \"s\", color=\"g\", linestyle=\"dashed\")\n",
    "plt.plot(Time, (reformatted_mouse_scatter_df[\"Placebo\"]/25)*100 , label= \"Placebo\", marker= \"d\", color=\"k\", linestyle=\"dashed\")\n",
    "\n",
    "plt.legend()\n",
    "plt.title(\"Survival Rates During Treatment\")\n",
    "plt.xlabel(\"Time (Days)\")\n",
    "plt.ylabel(\"Survival Rate (%) \")\n",
    "plt.grid()\n",
    "\n",
    "# Save the Figure\n",
    "plt.savefig(\"Images/survival_rates_during_treatment.png\")\n",
    "\n",
    "# Show the Figure\n",
    "plt.show()"
   ]
  },
  {
   "cell_type": "markdown",
   "metadata": {},
   "source": [
    "## Summary Bar Graph"
   ]
  },
  {
   "cell_type": "code",
   "execution_count": null,
   "metadata": {},
   "outputs": [],
   "source": [
    "# Calculate the percent changes for each drug\n",
    "tumor_vol = 45\n",
    "percent_change = ((reformatted_tumor_scatter_df.loc[45, :] - tumor_vol)/tumor_vol)*100\n",
    "\n",
    "# Display the data to confirm\n",
    "percent_change"
   ]
  },
  {
   "cell_type": "code",
   "execution_count": null,
   "metadata": {},
   "outputs": [],
   "source": [
    "# Orient widths. Add labels, tick marks, etc. \n",
    "fig, summary = plt.subplots()\n",
    "y_axis = [percent_change[\"Infubinol\"], percent_change[\"Ketapril\"], percent_change[\"Placebo\"]]\n",
    "x_axis_negative = [0]\n",
    "x_axis_positive = [1, 2, 3]\n",
    "\n",
    "x_axis_negative_bar = summary.bar(x_axis_negative, percent_change[\"Capomulin\"], color=\"g\", align = \"center\", width = 0.5)\n",
    "x_axis_positive_bar = summary.bar(x_axis_positive, y_axis , color='r', align = \"center\", width = 0.5)\n",
    "x_axis_labels = [\"Capomulin\", \"Infubinol\", \"Ketapril\", \"Placebo\"]\n",
    "\n",
    "plt.setp(summary, xticks=[0, 1, 2, 3], xticklabels=[\"Capomulin\", \"Infubinol\", \"Ketapril\", \"Placebo\"], yticks=[-20, 0, 20, 40, 60])\n",
    "summary.set_ylabel(\"Tumor Volume Change (%)\")\n",
    "summary.set_title(\"Tumor Change Over 45 Days\")\n",
    "summary.grid()\n",
    "\n",
    "# Use functions to label the percentages of changes\n",
    "def autolabel(labels):\n",
    "    for label in labels:\n",
    "        height = label.get_height()\n",
    "        summary.text(label.get_x() + label.get_width()/2, .5*height, \"%d\" %int(height)+ \"%\",\n",
    "                ha='center', va='top', color=\"black\")\n",
    "\n",
    "# Call functions to implement the function calls\n",
    "autolabel(x_axis_negative_bar)\n",
    "autolabel(x_axis_positive_bar)\n",
    "fig.tight_layout()\n",
    "\n",
    "# Save the Figure\n",
    "plt.savefig(\"Images/summary_bar_chart.png\")\n",
    "\n",
    "# Show the Figure\n",
    "fig.show()"
   ]
  }
 ],
 "metadata": {
  "anaconda-cloud": {},
  "kernelspec": {
   "display_name": "Python 3",
   "language": "python",
   "name": "python3"
  },
  "language_info": {
   "codemirror_mode": {
    "name": "ipython",
    "version": 3
   },
   "file_extension": ".py",
   "mimetype": "text/x-python",
   "name": "python",
   "nbconvert_exporter": "python",
   "pygments_lexer": "ipython3",
   "version": "3.7.3"
  }
 },
 "nbformat": 4,
 "nbformat_minor": 1
}
